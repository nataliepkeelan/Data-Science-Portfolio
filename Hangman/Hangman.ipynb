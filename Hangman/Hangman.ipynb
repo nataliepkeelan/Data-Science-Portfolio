{
 "cells": [
  {
   "cell_type": "code",
   "execution_count": 1,
   "metadata": {},
   "outputs": [],
   "source": [
    "import pandas as pd\n",
    "import numpy as np\n",
    "import re"
   ]
  },
  {
   "cell_type": "code",
   "execution_count": 2,
   "metadata": {},
   "outputs": [],
   "source": [
    "f = open(\"hw1_word_counts_05.txt\", \"r\")\n",
    "words = []\n",
    "counts = []\n",
    "for line in f.readlines():\n",
    "    l = line.replace(\"\\n\",\"\").split(\" \")\n",
    "    words.append(l[0])\n",
    "    counts.append(int(l[1]))\n",
    "word_count = dict(zip(words, counts))\n",
    "word_count_df = pd.DataFrame({'Word':words, 'Count':counts})"
   ]
  },
  {
   "cell_type": "markdown",
   "metadata": {},
   "source": [
    "### fifteen most frequent words"
   ]
  },
  {
   "cell_type": "code",
   "execution_count": 3,
   "metadata": {},
   "outputs": [
    {
     "data": {
      "text/plain": [
       "5821    THREE\n",
       "5102    SEVEN\n",
       "1684    EIGHT\n",
       "6403    WOULD\n",
       "18      ABOUT\n",
       "5804    THEIR\n",
       "6320    WHICH\n",
       "73      AFTER\n",
       "1975    FIRST\n",
       "1947    FIFTY\n",
       "4158    OTHER\n",
       "2073    FORTY\n",
       "6457    YEARS\n",
       "5806    THERE\n",
       "5250    SIXTY\n",
       "Name: Word, dtype: object"
      ]
     },
     "execution_count": 3,
     "metadata": {},
     "output_type": "execute_result"
    }
   ],
   "source": [
    "word_count_df.sort_values('Count', ascending = False).head(15).Word"
   ]
  },
  {
   "cell_type": "markdown",
   "metadata": {},
   "source": [
    "### fifteen least frequent words"
   ]
  },
  {
   "cell_type": "code",
   "execution_count": 4,
   "metadata": {},
   "outputs": [
    {
     "data": {
      "text/plain": [
       "3554    MAPCO\n",
       "712     BOSAK\n",
       "895     CAIXA\n",
       "4160    OTTIS\n",
       "5985    TROUP\n",
       "1107    CLEFT\n",
       "2041    FOAMY\n",
       "977     CCAIR\n",
       "5093    SERNA\n",
       "6443    YALOM\n",
       "5872    TOCOR\n",
       "3978    NIAID\n",
       "4266    PAXON\n",
       "1842    FABRI\n",
       "719     BOTTS\n",
       "Name: Word, dtype: object"
      ]
     },
     "execution_count": 4,
     "metadata": {},
     "output_type": "execute_result"
    }
   ],
   "source": [
    "word_count_df.sort_values('Count', ascending = True).head(15).Word"
   ]
  },
  {
   "cell_type": "markdown",
   "metadata": {},
   "source": [
    "## Hangman Game"
   ]
  },
  {
   "cell_type": "code",
   "execution_count": 5,
   "metadata": {},
   "outputs": [],
   "source": [
    "def hangman(correct_word, word_count, user_guesses=None):\n",
    "    #alphabet\n",
    "    current_alphabet = ['A', 'B', 'C', 'D', 'E', 'F', 'G', 'H', 'I', 'J', 'K', 'L', 'M', 'N',\n",
    "                'O', 'P', 'Q', 'R', 'S', 'T', 'U', 'V', 'W', 'X', 'Y', 'Z']\n",
    "    #make the correct word into a list of letters\n",
    "    target_word = [letter for letter in correct_word]\n",
    "    #assign the current word as list of empty chars since we havent guessed anything yet\n",
    "    current_word = ['','','','','']\n",
    "    #list of words that can still be considered for the answer\n",
    "    updated_dict = list(word_count.keys())\n",
    "    \n",
    "    #total word count to later be used in the denominator of Pr(W=w)\n",
    "    total_word_count = float(sum(word_count.values()))\n",
    "    \n",
    "    guess_num = 0\n",
    "    while(target_word != current_word):\n",
    "        #make a guess and remove that letter from the current_alphabet\n",
    "        if user_guesses is not None and guess_num<len(user_guesses):\n",
    "            guess= user_guesses[guess_num] \n",
    "        else:\n",
    "            guess = guess_next_letter(current_word, updated_dict, word_count, current_alphabet, total_word_count)\n",
    "        guess_num+=1\n",
    "        \n",
    "        print(\"GUESS: \" + guess)\n",
    "        current_alphabet = [letter for letter in current_alphabet if letter != guess]\n",
    "        \n",
    "        #is the guess correct or not?\n",
    "        correct_guess = guess in target_word\n",
    "        \n",
    "        if correct_guess:\n",
    "            #put the correct guess for the letter in the correct spots\n",
    "            current_word = [guess if guess==target_word[i] else current_word[i] for i in range(len(target_word))]\n",
    "            regex = ''\n",
    "            not_filled = []\n",
    "            for i in range(len(current_word)):\n",
    "                letter = current_word[i]\n",
    "                if letter == '':\n",
    "                    regex += '.'\n",
    "                    not_filled.append(i)\n",
    "                else:\n",
    "                    regex += letter\n",
    "            regex = re.compile(regex)\n",
    "            updated_dict = [word for word in updated_dict if regex.fullmatch(word) is not None]\n",
    "            updated_dict = [word for word in updated_dict if guess not in [word[i] for i in not_filled]]\n",
    "            #remove any words that do not match up with our current word\n",
    "        else:\n",
    "            #remove all words from the dictionary that contain that guess\n",
    "            if not correct_guess:\n",
    "                updated_dict = [word for word in updated_dict if guess not in word]  \n",
    "        #print the current word\n",
    "        to_print = \"\"\n",
    "        for letter in current_word:\n",
    "            if letter == '':\n",
    "                to_print+= \"_ \"\n",
    "            else:\n",
    "                to_print+= letter + \" \"\n",
    "        print(to_print)\n",
    "        print(\"\")"
   ]
  },
  {
   "cell_type": "code",
   "execution_count": 6,
   "metadata": {},
   "outputs": [],
   "source": [
    "def guess_next_letter(current_word, updated_dict, word_count, current_alphabet, total_word_count):\n",
    "    spots_to_guess = [i for i in range(len(current_word)) if current_word[i]=='']\n",
    "    prob_L_given_E = []\n",
    "    \n",
    "    for l in current_alphabet:\n",
    "        bayes_list = []\n",
    "        prob_L_given_w_list = []\n",
    "        prob_L_given_E_list = []\n",
    "        for w in updated_dict:\n",
    "            #Prob(W=w) = count(w)/sum(count(all w's)) = count(w)/total_word_count\n",
    "            prob_W = float(word_count[w])/total_word_count\n",
    "            \n",
    "            #prob(L=l for any of the spots that need to be guessed | word)\n",
    "            if l in [w[spot] for spot in spots_to_guess]:\n",
    "                prob_L_given_w = 1.0\n",
    "            else:\n",
    "                prob_L_given_w = 0.0\n",
    "            prob_L_given_w_list.append(prob_L_given_w)\n",
    "            \n",
    "            #prob(E | W = w)\n",
    "            prob_E_given_w = 1.0\n",
    "            \n",
    "            #Bayes numerator list\n",
    "            bayes_list.append(prob_W*prob_E_given_w)\n",
    "            \n",
    "        #bayes_denom = sum(bayes_denom_list)\n",
    "        bayes_denom = sum(bayes_list)\n",
    "        bayes_list = np.array(bayes_list)/bayes_denom\n",
    "        prob_L_given_E.append(sum([prob_L_given_w_list[i]*bayes_list[i] for i in range(len(bayes_list))]))\n",
    "    print(max(prob_L_given_E))\n",
    "    index = np.argmax(prob_L_given_E)\n",
    "    return current_alphabet[index]"
   ]
  },
  {
   "cell_type": "code",
   "execution_count": 7,
   "metadata": {},
   "outputs": [
    {
     "name": "stdout",
     "output_type": "stream",
     "text": [
      "0.5394172389647948\n",
      "GUESS: E\n",
      "_ _ _ E E \n",
      "\n",
      "0.9975410864383392\n",
      "GUESS: R\n",
      "_ _ R E E \n",
      "\n",
      "0.9813674863535253\n",
      "GUESS: T\n",
      "T _ R E E \n",
      "\n",
      "0.9999450734550994\n",
      "GUESS: H\n",
      "T H R E E \n",
      "\n"
     ]
    }
   ],
   "source": [
    "hangman(\"THREE\", word_count)"
   ]
  },
  {
   "cell_type": "code",
   "execution_count": 8,
   "metadata": {},
   "outputs": [
    {
     "name": "stdout",
     "output_type": "stream",
     "text": [
      "0.5394172389647948\n",
      "GUESS: E\n",
      "_ _ _ _ _ \n",
      "\n",
      "0.47645908946574006\n",
      "GUESS: O\n",
      "_ _ _ _ O \n",
      "\n",
      "0.8258395494884568\n",
      "GUESS: A\n",
      "_ A _ _ O \n",
      "\n",
      "0.8259289176090467\n",
      "GUESS: R\n",
      "_ A _ _ O \n",
      "\n",
      "0.34106728538283076\n",
      "GUESS: C\n",
      "_ A _ C O \n",
      "\n",
      "0.7743589743589743\n",
      "GUESS: N\n",
      "_ A _ C O \n",
      "\n",
      "0.803030303030303\n",
      "GUESS: S\n",
      "_ A _ C O \n",
      "\n",
      "0.7692307692307692\n",
      "GUESS: F\n",
      "_ A _ C O \n",
      "\n",
      "1.0\n",
      "GUESS: M\n",
      "M A _ C O \n",
      "\n",
      "1.0\n",
      "GUESS: P\n",
      "M A P C O \n",
      "\n"
     ]
    }
   ],
   "source": [
    "hangman(\"MAPCO\", word_count)"
   ]
  },
  {
   "cell_type": "code",
   "execution_count": null,
   "metadata": {},
   "outputs": [],
   "source": []
  }
 ],
 "metadata": {
  "kernelspec": {
   "display_name": "Python 3",
   "language": "python",
   "name": "python3"
  },
  "language_info": {
   "codemirror_mode": {
    "name": "ipython",
    "version": 3
   },
   "file_extension": ".py",
   "mimetype": "text/x-python",
   "name": "python",
   "nbconvert_exporter": "python",
   "pygments_lexer": "ipython3",
   "version": "3.8.3"
  }
 },
 "nbformat": 4,
 "nbformat_minor": 4
}
